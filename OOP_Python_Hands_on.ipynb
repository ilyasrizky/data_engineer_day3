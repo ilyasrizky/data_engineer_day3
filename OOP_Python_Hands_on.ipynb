{
  "nbformat": 4,
  "nbformat_minor": 0,
  "metadata": {
    "colab": {
      "provenance": [],
      "gpuType": "T4"
    },
    "kernelspec": {
      "name": "python3",
      "display_name": "Python 3"
    },
    "language_info": {
      "name": "python"
    },
    "accelerator": "GPU"
  },
  "cells": [
    {
      "cell_type": "code",
      "execution_count": 1,
      "metadata": {
        "id": "IczE8g70DkL4"
      },
      "outputs": [],
      "source": [
        "from abc import ABC, abstractmethod\n",
        "\n",
        "#Create abstraction layer\n",
        "class Product(ABC):\n",
        "  @abstractmethod\n",
        "  def harga (self):\n",
        "    pass\n",
        "\n",
        "  @abstractmethod\n",
        "  def stock (self):\n",
        "    pass\n",
        "\n",
        "  @abstractmethod\n",
        "  def nama (self):\n",
        "    pass"
      ]
    },
    {
      "cell_type": "code",
      "source": [
        "class GeneralProduct(Product):\n",
        "  def __init__(self, harga_product, stock_product, nama_product) -> None:\n",
        "    super().__init__()\n",
        "    self.harga_product = harga_product\n",
        "    self.stock_product = stock_product\n",
        "    self.nama_product = nama_product\n",
        "\n",
        "  def harga(self):\n",
        "    print(f\"Harganya adalah {self.harga_product}\")\n",
        "\n",
        "  def stock(self):\n",
        "    print(f\"Stocknya masih {self.stock_product}\")\n",
        "\n",
        "  def nama(self):\n",
        "    print(f\"Nama product: {self.nama_product}\")\n",
        "\n",
        "lipstik = GeneralProduct(50000, 10, 'Lipstik')\n",
        "lipstik.nama()\n",
        "lipstik.stock()\n",
        "lipstik.harga()"
      ],
      "metadata": {
        "colab": {
          "base_uri": "https://localhost:8080/"
        },
        "id": "hW-_cpZuOlKC",
        "outputId": "d2722456-a79e-497e-b9e9-0eec5eeb2a54"
      },
      "execution_count": 9,
      "outputs": [
        {
          "output_type": "stream",
          "name": "stdout",
          "text": [
            "Nama product: Lipstik\n",
            "Stocknya masih 10\n",
            "Harganya adalah 50000\n"
          ]
        }
      ]
    },
    {
      "cell_type": "code",
      "source": [
        "#Affiliate Prog\n",
        "#Sales Commission = sales_percentage * harga_product\n",
        "\n",
        "class Affiliate(GeneralProduct):\n",
        "  def __init__(self, harga_product, stock_product, nama_product, sales_percentage) -> None:\n",
        "    super().__init__(harga_product, stock_product, nama_product)\n",
        "    self.sales_percentage = sales_percentage\n",
        "\n",
        "  def harga(self):\n",
        "    print(f\"Harga Affiliatenya adalah {self.harga_product}\")\n",
        "\n",
        "  def stock(self):\n",
        "    print(f\"Stock untuk product Affiliate masih : {self.stock_product}\")\n",
        "\n",
        "  def nama(self):\n",
        "    print(f\"Nama Product Affiliate : {self.nama_product}\")\n",
        "\n",
        "  def comission(self):\n",
        "    sales_comission = self.sales_percentage * self.harga_product\n",
        "    print(f\"Komisi yang didapat adalah sebesar {sales_comission}\")\n",
        "    return sales_comission\n",
        "\n",
        "budi = Affiliate(50000, 10, 'lipstik', 0.15)\n",
        "budi.harga()\n",
        "budi.stock()\n",
        "budi.nama()\n",
        "budi.comission()"
      ],
      "metadata": {
        "colab": {
          "base_uri": "https://localhost:8080/"
        },
        "id": "oDSR98LgRFNz",
        "outputId": "f2a84165-0724-4882-c79f-0f6d3dc91f4d"
      },
      "execution_count": 12,
      "outputs": [
        {
          "output_type": "stream",
          "name": "stdout",
          "text": [
            "Harga Affiliatenya adalah 50000\n",
            "Stock untuk product Affiliate masih : 10\n",
            "Nama Product Affiliate : lipstik\n",
            "Komisi yang didapat adalah sebesar 7500.0\n"
          ]
        },
        {
          "output_type": "execute_result",
          "data": {
            "text/plain": [
              "7500.0"
            ]
          },
          "metadata": {},
          "execution_count": 12
        }
      ]
    },
    {
      "cell_type": "code",
      "source": [
        "#Loyalty Prog\n",
        "#Discount_price = (1-discount_percentage) * harga_product\n",
        "\n",
        "class Loyalty(GeneralProduct):\n",
        "  def __init__(self, harga_product, stock_product, nama_product, discount_percentage) -> None:\n",
        "    super().__init__(harga_product, stock_product, nama_product)\n",
        "    self.discount_percentage = discount_percentage\n",
        "\n",
        "  def harga(self):\n",
        "    print(f\"Harga Discountnya adalah: {self.discount()}\")\n",
        "\n",
        "  def stock(self):\n",
        "    print(f\"Stock untuk product terdiskon masih : {self.stock_product}\")\n",
        "\n",
        "  def nama(self):\n",
        "    print(f\"Nama Product yang di discount : {self.nama_product}\")\n",
        "\n",
        "  def discount(self):\n",
        "    discount_price = (1 - self.discount_percentage) * self.harga_product\n",
        "    return discount_price\n",
        "\n",
        "ani = Loyalty(50000, 70, \"Lipstik\", 0.4)\n",
        "ani.harga()\n",
        "ani.stock()\n",
        "ani.nama()\n",
        "ani.discount()"
      ],
      "metadata": {
        "colab": {
          "base_uri": "https://localhost:8080/"
        },
        "id": "AV67vnr9UxWd",
        "outputId": "e4fbca61-b1ca-4032-ce99-ed053a6ada4b"
      },
      "execution_count": 18,
      "outputs": [
        {
          "output_type": "stream",
          "name": "stdout",
          "text": [
            "Harga Discountnya adalah: 30000.0\n",
            "Stock untuk product terdiskon masih : 70\n",
            "Nama Product yang di discount : Lipstik\n"
          ]
        },
        {
          "output_type": "execute_result",
          "data": {
            "text/plain": [
              "30000.0"
            ]
          },
          "metadata": {},
          "execution_count": 18
        }
      ]
    }
  ]
}